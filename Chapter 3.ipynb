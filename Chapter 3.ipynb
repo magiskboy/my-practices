{
 "cells": [
  {
   "cell_type": "markdown",
   "metadata": {},
   "source": [
    "<img style=\"width: 300px; margin-bottom: 20px\" src=\"static/gdg-hanoi.svg\">\n",
    "<h1 style=\"margin-top: 0; font-size: 72px; display: block; text-align: center\">Function and Generator</h1>    \n",
    "<hr>"
   ]
  },
  {
   "cell_type": "markdown",
   "metadata": {},
   "source": [
    "## Định nghĩa hàm\n",
    "---\n",
    "__Hàm__ được định nghĩa bằng từ khóa __`def`__"
   ]
  },
  {
   "cell_type": "code",
   "execution_count": null,
   "metadata": {},
   "outputs": [],
   "source": [
    "def fib(n):\n",
    "    a = 0\n",
    "    b = 1\n",
    "    for i in range(2, n):\n",
    "        b += a\n",
    "        a = b - a\n",
    "    return b\n",
    "print(f'Fib(10) = {fib(10)}')"
   ]
  },
  {
   "cell_type": "markdown",
   "metadata": {},
   "source": [
    "## Hàm lồng hàm (nested function)\n",
    "---\n",
    "__Hàm__ có thể được định nghĩa bên trong hàm khác, khi đó hàm đó có phạm vi cục bộ"
   ]
  },
  {
   "cell_type": "code",
   "execution_count": null,
   "metadata": {
    "scrolled": true
   },
   "outputs": [],
   "source": [
    "# Nested function\n",
    "def make_power(n):\n",
    "    def square(x):\n",
    "        return x**n\n",
    "    return square\n",
    "\n",
    "square = make_power(2)\n",
    "print(f'Square of 9 is {square(9)}')\n",
    "\n",
    "root_square = make_power(0.5)\n",
    "print(f'Root square of 81 is {root_square(81)}')"
   ]
  },
  {
   "cell_type": "markdown",
   "metadata": {},
   "source": [
    "Hàm __`square`__ được lưu lại trạng thái khi hàm __`make_power`__ trả về kết quả"
   ]
  },
  {
   "cell_type": "markdown",
   "metadata": {},
   "source": [
    "## Phạm vi biến (variable scope) cơ bản\n",
    "---\n",
    "### `global`\n",
    "* Từ khóa __`global`__ đùng để xác định biến cục bộ trong thân hàm.\n",
    "\n",
    "* Trình dịch khi thấy từ khóa __`global`__ sẽ tìm biến ở phạm vi toàn cục, nếu biến đó chưa khởi tạo thì sẽ được khởi tạo ngay trong hàm.\n",
    "\n",
    "* Có thể sửa đổi một biến toàn cục trong một hàm mà không sử dụng __`global`__?"
   ]
  },
  {
   "cell_type": "code",
   "execution_count": null,
   "metadata": {},
   "outputs": [],
   "source": [
    "a = 10\n",
    "def func1():\n",
    "    a = 1\n",
    "\n",
    "def func2():\n",
    "    global a\n",
    "    a = 1\n",
    "    \n",
    "func1()\n",
    "print('a after func1', a)\n",
    "func2()\n",
    "print('a after func2', a)"
   ]
  },
  {
   "cell_type": "markdown",
   "metadata": {},
   "source": [
    "### `nonlocal`\n",
    "\n",
    "* __`nonlocal`__ xác định một biến không phải toàn cục cũng không phải cục bộ :).\n",
    "\n",
    "* __`nonlocal`__ xác định biến khởi tạo trong một hàm nhưng lại được sử dụng bên trong nested function của hàm đấy\n",
    "\n",
    "__Ví dụ__"
   ]
  },
  {
   "cell_type": "code",
   "execution_count": null,
   "metadata": {},
   "outputs": [],
   "source": [
    "def fun1():\n",
    "    a = 'local'\n",
    "    def func2():\n",
    "        nonlocal a\n",
    "        a = 'nonlocal'\n",
    "        print(a)\n",
    "        \n",
    "    func2()\n",
    "    print(a)\n",
    "func1()"
   ]
  },
  {
   "cell_type": "markdown",
   "metadata": {},
   "source": [
    "__Lưu ý: với `global`, biến có thể không cần khởi tạo trước nhưng với `nonlocal`, biến bắt buộc phải khởi tạo__"
   ]
  },
  {
   "cell_type": "markdown",
   "metadata": {},
   "source": [
    "## Tham số\n",
    "\n",
    "* Tham số của hàm cũng là biến cục bộ.\n",
    "\n",
    "* Tham số có thể truyền tường minh hoặc không tường minh\n",
    "\n",
    "* Hàm có thể trả về không (giá trị __`None`__), một hoặc nhiều giá trị (__tuple__)"
   ]
  },
  {
   "cell_type": "code",
   "execution_count": null,
   "metadata": {},
   "outputs": [],
   "source": [
    "def func(a, b, *args, **kwargs):\n",
    "    print(f'a = {a}\\nb = {b}')\n",
    "    print(f'args = {args}')\n",
    "    print(f'kwargs = {kwargs}')\n",
    "    \n",
    "    return a, b\n",
    "\n",
    "r = func('Hello', 'World', 1, 2, 3, x=5, y=6, z=7)\n",
    "print(f'r = {r}')"
   ]
  },
  {
   "cell_type": "markdown",
   "metadata": {},
   "source": [
    "__`args` và `kwargs` là gì?__"
   ]
  },
  {
   "cell_type": "markdown",
   "metadata": {},
   "source": [
    "## Decorator\n",
    "---\n",
    "* __Decorator__ là một design pattern thuộc loại __Creational patterns__.\n",
    "\n",
    "* __Decorator__ giúp ta mở rộng chức năng của hàm (class) bằng việc wrapper hàm ban đầu để sửa lại tham số và kết quả trả lại của hàm đó.\n",
    "\n",
    "__Ví dụ__\n"
   ]
  },
  {
   "cell_type": "code",
   "execution_count": null,
   "metadata": {},
   "outputs": [],
   "source": [
    "from functools import wraps\n",
    "\n",
    "def li(f):\n",
    "    @wraps(f)\n",
    "    def modified_func(*args, **kwargs):\n",
    "        result = f(*args, **kwargs)\n",
    "        result = f'<li>{result}</li>'\n",
    "        return result\n",
    "    return modified_func\n",
    "\n",
    "def b(f):\n",
    "    @wraps(f)\n",
    "    def modified_func(*args, **kwargs):\n",
    "        result = f(*args, **kwargs)\n",
    "        result = f'b{result}</b>'\n",
    "        return result\n",
    "    return modified_func\n",
    "\n",
    "def i(f):\n",
    "    @wraps(f)\n",
    "    def modified_func(*args, **kwargs):\n",
    "        result = f(*args, **kwargs)\n",
    "        result = f'<i>{result}</i>'\n",
    "        return result\n",
    "    return modified_func\n",
    "\n",
    "@li\n",
    "@b\n",
    "@i\n",
    "def gen_text(text):\n",
    "    return text\n",
    "\n",
    "e = gen_text('Python')\n",
    "print(e)"
   ]
  },
  {
   "cell_type": "markdown",
   "metadata": {},
   "source": [
    "## Lambda function\n",
    "---\n",
    "* __`lambda`__ function giúp viết hàm một cách ngắn gọn\n",
    "* __`lambda`__ fucntion chỉ có tham số và 1 câu lệnh trả về kết quả (không có từ khóa __`return`__)"
   ]
  },
  {
   "cell_type": "code",
   "execution_count": null,
   "metadata": {
    "scrolled": true
   },
   "outputs": [],
   "source": [
    "add = lambda x, y: x + y\n",
    "a = 10\n",
    "b = 15\n",
    "print(f'{a} + {b} = {add(a, b)}')"
   ]
  },
  {
   "cell_type": "markdown",
   "metadata": {},
   "source": [
    "## Một số hàm đặc biệt\n",
    "---\n",
    "\n",
    "* __`filter(conditional, iterable)`__ lọc các giá trị của một __iterable__ nếu điều kiện đúng\n",
    "\n",
    "\n",
    "* __`map(f, iterable)`__ ánh xạ từng phần từ của __iterable__ bằng hàm f\n",
    "\n",
    "Kết quả trả về của 2 hàm này là __generator__\n",
    "\n",
    "__Ví dụ__"
   ]
  },
  {
   "cell_type": "code",
   "execution_count": null,
   "metadata": {},
   "outputs": [],
   "source": [
    "# List comprehension\n",
    "arr = [i for i in range(20)]\n",
    "div_3 = list(filter(lambda x: not(x % 3), arr))\n",
    "print('Array of element div 3', div_3)"
   ]
  },
  {
   "cell_type": "code",
   "execution_count": null,
   "metadata": {
    "scrolled": true
   },
   "outputs": [],
   "source": [
    "arr = [i for i in range(10)]\n",
    "arr2 = list(map(lambda x: x**2, arr))\n",
    "print('Square of array', arr2)"
   ]
  },
  {
   "cell_type": "markdown",
   "metadata": {},
   "source": [
    "## Generator\n",
    "---\n",
    "* __Generator__ và __coroutine__ là 2 đối tượng được sử dụng trong xử lí song song của python\n",
    "\n",
    "* __Generator__ là object sinh data (hố trắng) trong khi __coroutine__ sẽ lấy data (hố đen)\n",
    "\n",
    "__Ví dụ__"
   ]
  },
  {
   "cell_type": "code",
   "execution_count": null,
   "metadata": {},
   "outputs": [],
   "source": [
    "def generator(n):\n",
    "    for i in range(n):\n",
    "        # Ngắt hàm, trả control về cho main control\n",
    "        yield i\n",
    "        \n",
    "gen = generator(3)\n",
    "print('Type of gen', str(gen))\n",
    "\n",
    "# Trao control cho hàm\n",
    "print('Value 0', next(gen))\n",
    "print('Value 1', next(gen))\n",
    "print('Value 2', next(gen))\n",
    "# End task\n",
    "print('Value 3', next(gen))"
   ]
  },
  {
   "cell_type": "markdown",
   "metadata": {},
   "source": [
    "### Ví dụ cơ bản về generator và coroutine\n",
    "---\n",
    "\n",
    "Một trong các ứng dụng mạnh mẽ của __`generator`__ là tạo ra các __pipeline process__"
   ]
  },
  {
   "cell_type": "code",
   "execution_count": null,
   "metadata": {},
   "outputs": [],
   "source": [
    "import random\n",
    "\n",
    "def square(target):\n",
    "    while True:\n",
    "        x = yield\n",
    "        x = x**2\n",
    "        print(f'[square]: {x} -> ', end='')\n",
    "        target.send(x)\n",
    "    \n",
    "def add10(target):\n",
    "    while True:\n",
    "        x = yield\n",
    "        x = x + 10\n",
    "        print(f'[add10]: {x} -> ', end='')\n",
    "        target.send(x)\n",
    "    \n",
    "def root():\n",
    "    while True:\n",
    "        x = yield\n",
    "        x = x**0.5\n",
    "        print(f'[root]: {x}')\n",
    "    \n",
    "root_node = root()\n",
    "add10_node = add10(root_node)\n",
    "square_node = square(add10_node)\n",
    "\n",
    "next(root_node)\n",
    "next(add10_node)\n",
    "next(square_node)\n",
    "\n",
    "arr = [random.randint(0, 20) for i in range(10)]\n",
    "for x in arr:\n",
    "    square_node.send(x)"
   ]
  },
  {
   "cell_type": "markdown",
   "metadata": {},
   "source": [
    "Tìm hiểu thêm về coroutine tại đây [Coroutine](http://www.dabeaz.com/coroutines/)"
   ]
  }
 ],
 "metadata": {
  "kernelspec": {
   "display_name": "Python 3",
   "language": "python",
   "name": "python3"
  },
  "language_info": {
   "codemirror_mode": {
    "name": "ipython",
    "version": 3
   },
   "file_extension": ".py",
   "mimetype": "text/x-python",
   "name": "python",
   "nbconvert_exporter": "python",
   "pygments_lexer": "ipython3",
   "version": "3.6.4"
  }
 },
 "nbformat": 4,
 "nbformat_minor": 2
}
