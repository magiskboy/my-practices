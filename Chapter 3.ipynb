{
 "cells": [
  {
   "cell_type": "markdown",
   "metadata": {},
   "source": [
    "<img style=\"width: 300px; margin-bottom: 20px\" src=\"static/gdg-hanoi.svg\">\n",
    "<h1 style=\"margin-top: 0; font-size: 72px; display: block; text-align: center\">Function and Generator</h1>    \n",
    "<hr>"
   ]
  },
  {
   "cell_type": "markdown",
   "metadata": {},
   "source": [
    "\n",
    "## Định nghĩa hàm"
   ]
  },
  {
   "cell_type": "code",
   "execution_count": null,
   "metadata": {},
   "outputs": [],
   "source": [
    "def fib(n):\n",
    "    a = 0\n",
    "    b = 1\n",
    "    for i in range(2, n):\n",
    "        b += a\n",
    "        a = b - a\n",
    "    return b\n",
    "print(f'Fib(10) = {fib(10)}')"
   ]
  },
  {
   "cell_type": "markdown",
   "metadata": {},
   "source": [
    "## Hàm lồng hàm (nested function)"
   ]
  },
  {
   "cell_type": "code",
   "execution_count": null,
   "metadata": {
    "scrolled": true
   },
   "outputs": [],
   "source": [
    "# Nested function\n",
    "def make_power(n):\n",
    "    def square(x):\n",
    "        return x**n\n",
    "    return square\n",
    "\n",
    "square = make_power(2)\n",
    "print(f'Square of 9 is {square(9)}')\n",
    "\n",
    "root_square = make_power(0.5)\n",
    "print(f'Root square of 81 is {root_square(81)}')"
   ]
  },
  {
   "cell_type": "markdown",
   "metadata": {},
   "source": [
    "Hàm `square` được lưu lại trạng thái khi hàm `make_power` trả về kết quả"
   ]
  },
  {
   "cell_type": "markdown",
   "metadata": {},
   "source": [
    "## Phạm vi biến (variable scope) cơ bản"
   ]
  },
  {
   "cell_type": "markdown",
   "metadata": {},
   "source": [
    "### `global`\n",
    "Từ khóa `global` đùng để xác định biến cục bộ trong thân hàm.\n",
    "\n",
    "Trình dịch khi thấy từ khóa `global` sẽ tìm biến ở phạm vi toàn cục, nếu biến đó chưa khởi tạo thì sẽ được khởi tạo ngay trong hàm.\n",
    "\n",
    "Có thể sửa đổi một biến toàn cục trong một hàm mà không sử dụng `global`?"
   ]
  },
  {
   "cell_type": "code",
   "execution_count": null,
   "metadata": {},
   "outputs": [],
   "source": [
    "a = 10\n",
    "def func1():\n",
    "    a = 1\n",
    "\n",
    "def func2():\n",
    "    global a\n",
    "    a = 1\n",
    "    \n",
    "func1()\n",
    "print('a after func1', a)\n",
    "func2()\n",
    "print('a after func2', a)"
   ]
  },
  {
   "cell_type": "markdown",
   "metadata": {},
   "source": [
    "### `nonlocal`\n",
    "\n",
    "`nonlocal` xác định một biến không phải toàn cục cũng không phải cục bộ :).\n",
    "\n",
    "Nó xác định biến khởi tạo trong một hàm nhưng lại được sử dụng bên trong nested function của hàm đấy"
   ]
  },
  {
   "cell_type": "code",
   "execution_count": null,
   "metadata": {},
   "outputs": [],
   "source": [
    "def fun1():\n",
    "    a = 'local'\n",
    "    def func2():\n",
    "        nonlocal a\n",
    "        a = 'nonlocal'\n",
    "        print(a)\n",
    "        \n",
    "    func2()\n",
    "    print(a)\n",
    "func1()"
   ]
  },
  {
   "cell_type": "markdown",
   "metadata": {},
   "source": [
    "#### Lưu ý: với `global`, biến có thể không cần khởi tạo trước nhưng với `nonlocal`, biến bắt buộc phải khởi tạo"
   ]
  },
  {
   "cell_type": "markdown",
   "metadata": {},
   "source": [
    "## Lambda function"
   ]
  },
  {
   "cell_type": "code",
   "execution_count": null,
   "metadata": {
    "scrolled": true
   },
   "outputs": [],
   "source": [
    "add = lambda x, y: x + y\n",
    "a = 10\n",
    "b = 15\n",
    "print(f'{a} + {b} = {add(a, b)}')"
   ]
  },
  {
   "cell_type": "markdown",
   "metadata": {},
   "source": [
    "## Một số hàm đặc biệt"
   ]
  },
  {
   "cell_type": "code",
   "execution_count": null,
   "metadata": {},
   "outputs": [],
   "source": [
    "# List comprehension\n",
    "arr = [i for i in range(20)]\n",
    "div_3 = list(filter(lambda x: not(x % 3), arr))\n",
    "print('Array of element div 3', div_3)"
   ]
  },
  {
   "cell_type": "code",
   "execution_count": null,
   "metadata": {
    "scrolled": true
   },
   "outputs": [],
   "source": [
    "arr = [i for i in range(10)]\n",
    "arr2 = list(map(lambda x: x**2, arr))\n",
    "print('Square of array', arr2)"
   ]
  },
  {
   "cell_type": "markdown",
   "metadata": {},
   "source": [
    "## Generator\n",
    "\n",
    "Generator và coroutine là 2 đối tượng được sử dụng trong lập trình bất đồng bộ của python\n",
    "\n",
    "Generator là object sinh data (hố trắng) trong khi coroutine sẽ lấy data (hố đen)"
   ]
  },
  {
   "cell_type": "code",
   "execution_count": null,
   "metadata": {},
   "outputs": [],
   "source": [
    "def generator(n):\n",
    "    for i in range(n):\n",
    "        # Ngắt hàm, trả control về cho main control\n",
    "        yield i\n",
    "        \n",
    "gen = generator(3)\n",
    "print('Type of gen', str(gen))\n",
    "\n",
    "# Trao control cho hàm\n",
    "print('Value 0', next(gen))\n",
    "print('Value 1', next(gen))\n",
    "print('Value 2', next(gen))\n",
    "# End task\n",
    "print('Value 3', next(gen))"
   ]
  },
  {
   "cell_type": "markdown",
   "metadata": {},
   "source": [
    "### Ví dụ cơ bản về generator và coroutine\n",
    "\n",
    "Một trong các ứng dụng mạnh mẽ của generator là tạo ra các pipeline process"
   ]
  },
  {
   "cell_type": "code",
   "execution_count": null,
   "metadata": {},
   "outputs": [],
   "source": [
    "import random\n",
    "\n",
    "def square(target):\n",
    "    while True:\n",
    "        x = yield\n",
    "        x = x**2\n",
    "        print(f'[square]: {x} -> ', end='')\n",
    "        target.send(x)\n",
    "    \n",
    "def add10(target):\n",
    "    while True:\n",
    "        x = yield\n",
    "        x = x + 10\n",
    "        print(f'[add10]: {x} -> ', end='')\n",
    "        target.send(x)\n",
    "    \n",
    "def root():\n",
    "    while True:\n",
    "        x = yield\n",
    "        x = x**0.5\n",
    "        print(f'[root]: {x}')\n",
    "    \n",
    "root_node = root()\n",
    "add10_node = add10(root_node)\n",
    "square_node = square(add10_node)\n",
    "\n",
    "next(root_node)\n",
    "next(add10_node)\n",
    "next(square_node)\n",
    "\n",
    "arr = [random.randint(0, 20) for i in range(10)]\n",
    "for x in arr:\n",
    "    square_node.send(x)"
   ]
  },
  {
   "cell_type": "markdown",
   "metadata": {},
   "source": [
    "Tìm hiểu thêm về coroutine tại đây [Coroutine](http://www.dabeaz.com/coroutines/)"
   ]
  }
 ],
 "metadata": {
  "kernelspec": {
   "display_name": "Python 3",
   "language": "python",
   "name": "python3"
  },
  "language_info": {
   "codemirror_mode": {
    "name": "ipython",
    "version": 3
   },
   "file_extension": ".py",
   "mimetype": "text/x-python",
   "name": "python",
   "nbconvert_exporter": "python",
   "pygments_lexer": "ipython3",
   "version": "3.6.4"
  }
 },
 "nbformat": 4,
 "nbformat_minor": 2
}
