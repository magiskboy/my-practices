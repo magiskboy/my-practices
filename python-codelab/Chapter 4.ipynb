{
 "cells": [
  {
   "cell_type": "markdown",
   "metadata": {},
   "source": [
    "<img style=\"width: 300px; margin-bottom: 20px\" src=\"static/gdg-hanoi.svg\">\n",
    "<h1 style=\"margin-top: 0; font-size: 72px; display: block; text-align: center\">Hướng đối tượng</h1>    \n",
    "<hr>"
   ]
  },
  {
   "cell_type": "markdown",
   "metadata": {},
   "source": [
    "## Định nghĩa lớp\n",
    "---\n",
    "\n",
    "__Mọi class__ trong python đều là __class con__ của class __`object`__"
   ]
  },
  {
   "cell_type": "code",
   "execution_count": null,
   "metadata": {},
   "outputs": [],
   "source": [
    "class Demo:\n",
    "    def __init__(self):\n",
    "        print('__init__ object')\n",
    "    \n",
    "    def display(self):\n",
    "        print('Display')\n",
    "    \n",
    "    def __call__(self):\n",
    "        print('__call__ method')\n",
    "        \n",
    "    def __str__(self):\n",
    "        return '__str__ method'\n",
    "        \n",
    "    def __repr__(self):\n",
    "        return '__repr__ method'\n",
    "        \n",
    "    def __del__(self):\n",
    "        print('__del__ method')"
   ]
  },
  {
   "cell_type": "code",
   "execution_count": null,
   "metadata": {},
   "outputs": [],
   "source": [
    "# __init__\n",
    "d = Demo()\n",
    "\n",
    "# __call__\n",
    "d()\n",
    "\n",
    "# __str__\n",
    "print(d)\n",
    "\n",
    "# __del__\n",
    "del d"
   ]
  },
  {
   "cell_type": "markdown",
   "metadata": {},
   "source": [
    "__`self`__ là gì?\n",
    "\n",
    "**`__init__`** có thật sự là constructor?"
   ]
  },
  {
   "cell_type": "code",
   "execution_count": null,
   "metadata": {},
   "outputs": [],
   "source": [
    "class Demo2:\n",
    "    def __init__(self, x=5):\n",
    "        self.x = x\n",
    "        \n",
    "    def __new__(cls):\n",
    "        pass"
   ]
  },
  {
   "cell_type": "code",
   "execution_count": null,
   "metadata": {},
   "outputs": [],
   "source": [
    "d2 = Demo2()\n",
    "print(isinstance(d2, Demo2))"
   ]
  },
  {
   "cell_type": "code",
   "execution_count": null,
   "metadata": {},
   "outputs": [],
   "source": [
    "d2 = object.__new__(Demo2)\n",
    "print(isinstance(d2, Demo2))"
   ]
  },
  {
   "cell_type": "markdown",
   "metadata": {},
   "source": [
    "__Các bước khởi tạo object được ẩn đi__"
   ]
  },
  {
   "cell_type": "code",
   "execution_count": null,
   "metadata": {},
   "outputs": [],
   "source": [
    "class Demo2:\n",
    "    def __init__(self, x=5):\n",
    "        self.x = x\n",
    "        \n",
    "    def __new__(cls):\n",
    "        obj = object.__new__(cls)\n",
    "        return obj\n",
    "\n",
    "d2 = Demo2()\n",
    "print(isinstance(d2, Demo2))\n",
    "print('d2.x =', d2.x)"
   ]
  },
  {
   "cell_type": "markdown",
   "metadata": {},
   "source": [
    "## Hiểu rõ hơn về cơ chế bind receiver\n",
    "---"
   ]
  },
  {
   "cell_type": "code",
   "execution_count": null,
   "metadata": {},
   "outputs": [],
   "source": [
    "class Demo3:\n",
    "    def instance_method(self, x=5):\n",
    "        print('instance_method %s with %s' % (self, x))\n",
    "    \n",
    "    @classmethod\n",
    "    def class_method(cls, x=5):\n",
    "        print('class_method %s with %s' % (cls, x))\n",
    "        \n",
    "    @staticmethod\n",
    "    def static_method(x=5):\n",
    "        print('static_method with %s' % x)"
   ]
  },
  {
   "cell_type": "markdown",
   "metadata": {},
   "source": [
    "__Static method__ có chức năng khá giống với static method trong java, nó mang ít ý nghĩa với OOP và thường dùng để nhóm các hàm hữu ích trong một bối cảnh cụ thể (helper function ví dụ như class Math trong java)"
   ]
  },
  {
   "cell_type": "code",
   "execution_count": null,
   "metadata": {
    "scrolled": true
   },
   "outputs": [],
   "source": [
    "d3 = Demo3()\n",
    "d3.instance_method()\n",
    "d3.class_method()\n",
    "d3.static_method()"
   ]
  },
  {
   "cell_type": "markdown",
   "metadata": {},
   "source": [
    "Các phương thức của class được lưu trong một hash table"
   ]
  },
  {
   "cell_type": "code",
   "execution_count": null,
   "metadata": {
    "scrolled": true
   },
   "outputs": [],
   "source": [
    "Demo3.__dict__"
   ]
  },
  {
   "cell_type": "code",
   "execution_count": null,
   "metadata": {},
   "outputs": [],
   "source": [
    "Demo3.__dict__['instance_method'].__get__(d3, 10)()"
   ]
  },
  {
   "cell_type": "markdown",
   "metadata": {},
   "source": [
    "### Một định nghĩa class cũng là class\n",
    "\n",
    "Mọi định nghĩa class đều kế thừa từ class __`type`__, class __`type`__ gọi là __`metaclass`__"
   ]
  },
  {
   "cell_type": "code",
   "execution_count": null,
   "metadata": {
    "scrolled": true
   },
   "outputs": [],
   "source": [
    "print(type(Demo3))"
   ]
  },
  {
   "cell_type": "markdown",
   "metadata": {},
   "source": [
    "## Ví dụ về OOP\n",
    "---\n",
    "\n",
    "Lưu ý: __`class`__ trong python là __đa kế thừa__"
   ]
  },
  {
   "cell_type": "code",
   "execution_count": null,
   "metadata": {},
   "outputs": [],
   "source": [
    "class Person(object):\n",
    "    def __init__(self, name, age, weight):\n",
    "        self.name = name\n",
    "        self.age = age\n",
    "        self.weight = weight\n",
    "        \n",
    "    def __str__(self):\n",
    "        return f'Name  : {self.name}\\nAge   : {self.age}\\nWeight: {self.weight}'\n",
    "    \n",
    "    def __eq__(self, o):\n",
    "        return self.age == o.age\n",
    "    \n",
    "    def __lt__(self, o):\n",
    "        return self.age > o.age\n",
    "    \n",
    "    def __gt__(self, o):\n",
    "        return self.age < o.age\n",
    "\n",
    "class God(Person):\n",
    "    def __init__(self, weapon, *args, **kwargs):\n",
    "        super(God, self).__init__(*args, **kwargs)\n",
    "        self.weapon = weapon"
   ]
  },
  {
   "cell_type": "code",
   "execution_count": null,
   "metadata": {
    "scrolled": true
   },
   "outputs": [],
   "source": [
    "thor = God('hammer', 'Thor', 20, 10000)\n",
    "captain = Person('Captain America', 16, 100)\n",
    "print(str(a))\n",
    "if thor < loki:\n",
    "    print('Thor is stronger than Captain')\n",
    "elif thor > loki:\n",
    "    print('Loki is stronger than Captain')\n",
    "else:\n",
    "    print('Captain equal Thor')\n",
    "    \n",
    "print(f'Weapon of Thor is {thor.weapon}')"
   ]
  },
  {
   "cell_type": "code",
   "execution_count": null,
   "metadata": {},
   "outputs": [],
   "source": [
    "class FibException(Exception):\n",
    "    pass\n",
    "\n",
    "def fib(n):\n",
    "    if not isinstance(n, int):\n",
    "        raise FibException('n required integer')\n",
    "    print(f'Proccess with n = {n}')\n",
    "    \n",
    "fib(5)\n",
    "fib('string')"
   ]
  }
 ],
 "metadata": {
  "kernelspec": {
   "display_name": "Python 3",
   "language": "python",
   "name": "python3"
  },
  "language_info": {
   "codemirror_mode": {
    "name": "ipython",
    "version": 3
   },
   "file_extension": ".py",
   "mimetype": "text/x-python",
   "name": "python",
   "nbconvert_exporter": "python",
   "pygments_lexer": "ipython3",
   "version": "3.6.4"
  }
 },
 "nbformat": 4,
 "nbformat_minor": 2
}
