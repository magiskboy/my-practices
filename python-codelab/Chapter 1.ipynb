{
 "cells": [
  {
   "cell_type": "markdown",
   "metadata": {},
   "source": [
    "<img style=\"width: 300px; margin-bottom: 20px\" src=\"static/gdg-hanoi.svg\">\n",
    "<h1 style=\"margin-top: 0; font-size: 72px; display: block; text-align: center\">Kiểu dữ liệu cơ bản</h1>    \n",
    "<hr>"
   ]
  },
  {
   "cell_type": "markdown",
   "metadata": {},
   "source": [
    "### Tài liệu tham khảo\n",
    "---\n",
    "\n",
    "#### Blog\n",
    "\n",
    "<a href=\"https://docs.python.org/3/\">Docmentation python</a>\n",
    "\n",
    "<a href=\"http://pythonprogramming.net\">pythonprogramming.net</a>\n",
    "\n",
    "<a href=\"http://realpython.com\">realpython.com</a>\n",
    "\n",
    "#### Ebook\n",
    "\n",
    "<a href=\"https://drive.google.com/open?id=1C-YSP7PHFtUYZnbUjvdGZHkHBzh_WWsC\">Learn Python</a>\n",
    "\n",
    "<a href=\"https://drive.google.com/open?id=1T91O7Zle5lnaQt7EZO-_3Kq44cVX1eIH\">Programming Python, 4th Edition (2010)</a>"
   ]
  },
  {
   "cell_type": "markdown",
   "metadata": {},
   "source": [
    "## Mở đầu\n",
    "---\n",
    "\n",
    "* Python là ngôn ngữ __thông dịch__ (chương trình dịch và thực thi từng dòng lệnh trong quá trình chạy)\n",
    "\n",
    "\n",
    "* __Mọi dữ liệu trong Python là object__, được lưu trữ trong heap và tự động giải phóng bởi garbage collector\n",
    "\n",
    "\n",
    "* Python là ngôn ngữ __kiểu động__, không cần khai báo kiểu dữ liệu, phải khởi tạo giá trị trước khi sử dụng (kiểu dữ định nghĩa khi khỏi tạo) và kiểu của biến có thể thay đổi trong lúc chạy</b>"
   ]
  },
  {
   "cell_type": "code",
   "execution_count": null,
   "metadata": {},
   "outputs": [],
   "source": [
    "import sys"
   ]
  },
  {
   "cell_type": "markdown",
   "metadata": {},
   "source": [
    "## Các kiểu dữ liệu nguyên thủy\n",
    "---\n",
    "\n",
    "1. Số học (int, float)\n",
    "\n",
    "2. Chuỗi\n",
    "\n",
    "3. Danh sách hay mảng (tuple và list)\n",
    "\n",
    "4. Hash table\n",
    "\n",
    "5. Boolean\n",
    "\n",
    "6. Set"
   ]
  },
  {
   "cell_type": "code",
   "execution_count": null,
   "metadata": {},
   "outputs": [],
   "source": [
    "string = 'Hello world'\n",
    "integer = 3\n",
    "real = 3.0\n",
    "obj = {'name': 'David', 'age': 20, 'address': 'Hanoi'}\n",
    "boolean = True # or False\n",
    "s = set([1, 1, 2, 3, 5, 2])\n",
    "\n",
    "print(f'String string = `{string}`')\n",
    "print(f'Integer integer = {integer}')\n",
    "print(f'Real real = {real}')\n",
    "print(f'Hash table obj = {obj}')\n",
    "print(f'Boolean boolean = {boolean}')\n",
    "print(f'Set s = {s}')"
   ]
  },
  {
   "cell_type": "markdown",
   "metadata": {},
   "source": [
    "## Một số thao tác phổ biến trên một số kiểu dữ liệu\n",
    "---"
   ]
  },
  {
   "cell_type": "code",
   "execution_count": null,
   "metadata": {},
   "outputs": [],
   "source": [
    "arr = [0, 1, 2, 3]\n",
    "print('Origin ', arr)\n",
    "\n",
    "arr.append(4)\n",
    "print('Append ', arr)\n",
    "\n",
    "sub_arr = [5, 6, 7, 8, 9]\n",
    "arr.extend(sub_arr)\n",
    "print('Extend ', arr)\n",
    "\n",
    "# Slice array\n",
    "print('Slice, get element (0, 1, 2) ', arr[0:3])\n",
    "print('Slice, get (2 -> last) ', arr[2:-1])\n",
    "print('Slice, get (1 -> last) with step 2', arr[1:-1:2])"
   ]
  },
  {
   "cell_type": "code",
   "execution_count": null,
   "metadata": {},
   "outputs": [],
   "source": [
    "string = '123456'\n",
    "print(f'Origin: `{string}`')\n",
    "\n",
    "string = string[::-1]\n",
    "print(f'Reverse string: `{string}`')"
   ]
  },
  {
   "cell_type": "code",
   "execution_count": null,
   "metadata": {},
   "outputs": [],
   "source": [
    "person = {\n",
    "    'name': 'David',\n",
    "    'age': 20\n",
    "}\n",
    "print(f'Origin: {person}')\n",
    "\n",
    "person.update(address='Hanoi')\n",
    "print(f'Update: {person}')\n",
    "\n",
    "value = person.pop('age')\n",
    "print(f'Pop {person}')\n",
    "print('Pop value ', value)"
   ]
  },
  {
   "cell_type": "markdown",
   "metadata": {},
   "source": [
    "## Mutable và Immutable\n",
    "---\n",
    "__`Immutable`__ là kiểu mà dữ liệu chứa trong nó __`bất biến`__, __`mutable`__ thì ngược lại"
   ]
  },
  {
   "cell_type": "code",
   "execution_count": null,
   "metadata": {},
   "outputs": [],
   "source": [
    "arr = [1, 2, 3, 4, 5]\n",
    "tup = (1, 2, 3, 4, 5)\n",
    "string = 'Python'\n",
    "\n",
    "print(f'arr: {arr}')\n",
    "print(f'tup: {tup}')\n",
    "print(f'string: {string}')"
   ]
  },
  {
   "cell_type": "code",
   "execution_count": null,
   "metadata": {},
   "outputs": [],
   "source": [
    "arr[3] = 'Python'\n",
    "print(f'{arr}')"
   ]
  },
  {
   "cell_type": "code",
   "execution_count": null,
   "metadata": {
    "scrolled": true
   },
   "outputs": [],
   "source": [
    "tup[3] = 'Java'\n",
    "print(tup)"
   ]
  },
  {
   "cell_type": "code",
   "execution_count": null,
   "metadata": {},
   "outputs": [],
   "source": [
    "string[0] = 'C'\n",
    "print(string)"
   ]
  },
  {
   "cell_type": "markdown",
   "metadata": {},
   "source": [
    "__Giải thích trường hợp sau?__"
   ]
  },
  {
   "cell_type": "code",
   "execution_count": null,
   "metadata": {},
   "outputs": [],
   "source": [
    "s1 = 'Python'\n",
    "s2 = 'Python'\n",
    "print(f'id(s1) = {id(s1)}\\nid(s2) = {id(s2)}')\n",
    "\n",
    "arr1 = [1, 2, 3]\n",
    "arr2 = [1, 2, 3]\n",
    "print(f'id(arr1) = {id(arr1)}\\nid(arr2) = {id(arr2)}')"
   ]
  },
  {
   "cell_type": "code",
   "execution_count": null,
   "metadata": {},
   "outputs": [],
   "source": [
    "short_string = 'Đôi khi bâng khuâng mình ta lạc trôi giữa dòng đời mà'\n",
    "long_string = 'Vũ trụ Điện ảnh Marvel (tiếng Anh: Marvel Cinematic Universe hay viết tắt là MCU) là một thương hiệu truyền thông và một vũ trụ chia sẻ hư cấu, tập trung vào một loạt các bộ phim siêu anh hùng do Marvel Studios sản xuất độc lập và dựa trên các nhân vật trong những ấn phẩm của Marvel Comics. Thương hiệu mở rộng bao gồm những mảng truyện tranh, phim ngắn và phim truyền hình. Vũ trụ chia sẻ gần giống với Vũ trụ Marvel gốc trong truyện tranh, được thành lập bằng cách vượt qua những yếu tố cốt truyện, nội dung, diễn viên và nhân vật phổ biến. Clark Gregg xuất hiện nhiều nhất trong các thương hiệu khi đóng vai Phil Coulson, một nhân vật gốc thuộc MCU.'\n",
    "\n",
    "print('Size of short_string ', sys.getsizeof(short_string))\n",
    "print('Size of long_string ', sys.getsizeof(long_string))\n",
    "\n",
    "small_int = 5\n",
    "big_int = 10000000000000\n",
    "print('Size of small_int {}'.format(sys.getsizeof(small_int)))\n",
    "print('Size of big_int {}'.format(sys.getsizeof(big_int)))\n",
    "\n",
    "small_float = 1e-30\n",
    "big_float = 1e30\n",
    "print('Size of small_float %d' % (sys.getsizeof(small_float)))\n",
    "print('Size of big_float %d' % (sys.getsizeof(big_float)))"
   ]
  },
  {
   "cell_type": "markdown",
   "metadata": {},
   "source": [
    "#### Lưu ý: Do số thực được biểu diễn dưới dạng dấu phẩy động nên kích thước luôn là 24 bytes, các kiểu khác sẽ tỉ lệ thuận với giá trị của object đó"
   ]
  },
  {
   "cell_type": "markdown",
   "metadata": {},
   "source": [
    "## Biến\n",
    "---\n",
    "### Tạo một biến\n",
    "\n",
    "1. Tạo một object trong heap\n",
    "\n",
    "2. Gán biến tham chiếu tới object vừa tạo\n",
    "\n",
    "### Phép toán gán\n",
    "\n",
    "1. Tạo một biến tham chiếu mới và trỏ tới object mà biến tham chiếu kia trỏ tới\n",
    "2. Tăng referrent counter của object lên 1\n",
    "\n",
    "### Object share\n",
    "\n",
    "* Đặc điểm này trong python gọi là __object share__\n",
    "\n",
    "\n",
    "* Một object trong heap có 3 trường: __referrent counter__, __type__ và __value__\n",
    "\n",
    "\n",
    "* Nếu một object không có tham chếu nào trỏ tới nó sẽ được gc giải phóng\n"
   ]
  },
  {
   "cell_type": "code",
   "execution_count": null,
   "metadata": {},
   "outputs": [],
   "source": [
    "a = 3\n",
    "print('a =', a)"
   ]
  },
  {
   "cell_type": "markdown",
   "metadata": {},
   "source": [
    "<img width=\"480\" src=\"static/1.1.png\" alt=\"Image 1.1\">"
   ]
  },
  {
   "cell_type": "code",
   "execution_count": null,
   "metadata": {},
   "outputs": [],
   "source": [
    "b = a\n",
    "print('b =', b)"
   ]
  },
  {
   "cell_type": "markdown",
   "metadata": {},
   "source": [
    "<img width=\"480\"src=\"static/1.2.png\" alt=\"Image 1.2\">"
   ]
  },
  {
   "cell_type": "code",
   "execution_count": null,
   "metadata": {},
   "outputs": [],
   "source": [
    "a = 'str'\n",
    "print('a =', a)\n",
    "print('b =', b)"
   ]
  },
  {
   "cell_type": "markdown",
   "metadata": {},
   "source": [
    "<img width=\"480\" src=\"static/1.3.png\" alt=\"Image 1.3\">"
   ]
  },
  {
   "cell_type": "markdown",
   "metadata": {},
   "source": [
    "## Mẹo\n",
    "---\n",
    "1. Python documentation in local\n",
    "```bash\n",
    "$ pydoc3 -p 8000\n",
    "```\n",
    "\n",
    "2. Python documentation in console\n",
    "```python\n",
    "help([tên hàm hoặc tên module])\n",
    "```"
   ]
  }
 ],
 "metadata": {
  "kernelspec": {
   "display_name": "Python 3",
   "language": "python",
   "name": "python3"
  },
  "language_info": {
   "codemirror_mode": {
    "name": "ipython",
    "version": 3
   },
   "file_extension": ".py",
   "mimetype": "text/x-python",
   "name": "python",
   "nbconvert_exporter": "python",
   "pygments_lexer": "ipython3",
   "version": "3.6.4"
  }
 },
 "nbformat": 4,
 "nbformat_minor": 2
}
