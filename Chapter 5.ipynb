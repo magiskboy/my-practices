{
 "cells": [
  {
   "cell_type": "markdown",
   "metadata": {},
   "source": [
    "<img style=\"width: 300px; margin-bottom: 20px\" src=\"static/gdg-hanoi.svg\">\n",
    "<h1 style=\"margin-top: 0; font-size: 72px; display: block; text-align: center\">Package and Module</h1>    \n",
    "<hr>"
   ]
  },
  {
   "cell_type": "markdown",
   "metadata": {},
   "source": [
    "## Khái niệm\n",
    "---\n",
    "* __Module__ đơn giản là 1 __file script__ python\n",
    "\n",
    "* __Package__ là một __directory chứa các module__\n",
    "\n",
    "* Khi cài đặt python, các bạn sẽ có có builtin package như __`json`__, __`math`__, __`os`__, __`sys`__\n",
    "\n",
    "Khi dùng lệnh __`import`__ hay __`from`__, python sẽ __load nội dung của module hay package__ thành một __object__ và __gán cho tham chiếu__\n",
    "\n",
    "**Ví dụ**"
   ]
  },
  {
   "cell_type": "code",
   "execution_count": null,
   "metadata": {},
   "outputs": [],
   "source": [
    "import sys\n",
    "import os\n",
    "from json import load as jload\n",
    "\n",
    "print('os module', os)\n",
    "print('sys package', sys)\n",
    "print('load function in json package', jload)"
   ]
  },
  {
   "cell_type": "markdown",
   "metadata": {},
   "source": [
    "__Làm sao để python biết vị trí các `package` hay `module`?__\n",
    "\n",
    "Trong module __`sys`__ có một biến mảng __`path`__ sẽ chứa những directory giúp python tìm kiếm __`package`__ hoặc __`module`__"
   ]
  },
  {
   "cell_type": "code",
   "execution_count": null,
   "metadata": {
    "scrolled": false
   },
   "outputs": [],
   "source": [
    "print(sys.path)"
   ]
  },
  {
   "cell_type": "markdown",
   "metadata": {},
   "source": [
    "## Load package (module) diễn ra như thế nào?\n",
    "---\n",
    "\n",
    "Ta có __`package`__ tên __demo_package__ sau: \n",
    "<pre>\n",
    "demo_pkg\n",
    "├── __init__.py\n",
    "├── inner_pkg\n",
    "│   ├── __init__.py\n",
    "│   └── mod.py\n",
    "├── mod1.py\n",
    "└── mod2.py\n",
    "</pre>\n",
    "Khi thực hiện __`import`__ hay __`from`__, các file **`__init__.py`** sẽ được thực thi đầu tiên\n",
    "\n",
    "Theo convention, các bạn nên load tất cả các __`module`__, __`package`__ con ngay trong file **`__init__.py`** để tránh xảy ra việc load một module 2 lần "
   ]
  },
  {
   "cell_type": "code",
   "execution_count": null,
   "metadata": {},
   "outputs": [],
   "source": [
    "import demo_pkg\n",
    "\n",
    "print(demo_pkg)\n",
    "\n",
    "print(dir(demo_pkg))"
   ]
  },
  {
   "cell_type": "code",
   "execution_count": null,
   "metadata": {},
   "outputs": [],
   "source": [
    "demo_pkg.inner_pkg.mod.display()"
   ]
  },
  {
   "cell_type": "markdown",
   "metadata": {},
   "source": [
    "__Lưu ý__\n",
    "\n",
    "Do ta load tất cả các __`module`__ và __`package`__ con trong **`__init__.py`**, ta nên để ý __thứ tự load__ của chúng nếu 2 module sử dụng lẫn nhau trong cùng một package\n",
    "\n",
    "Cố gắng thiết kế package hợp lí để không xảy ra trường hợp trên\n",
    "\n",
    "Trong một số trường hợp (hạn chế), ta phải sửa lại biến __`sys.path`__ để python có thể tìm thấy package\n",
    "\n",
    "__Ví dụ__"
   ]
  },
  {
   "cell_type": "markdown",
   "metadata": {},
   "source": [
    "* **demo_pkg/\\__init\\__.py**\n",
    "\n",
    "```python\n",
    "from . import mod1\n",
    "from . import mod2\n",
    "from . import inner_pkg\n",
    "```\n",
    "----------\n",
    "\n",
    "* **demo_pkg/mod1.py**\n",
    "\n",
    "```python\n",
    "def display():\n",
    "    print('demo_pkg/mod1.display')\n",
    "\n",
    "def base_func():\n",
    "    print('base function')\n",
    "```\n",
    "----------\n",
    "\n",
    "* **demo_pkg/mod2.py**\n",
    "\n",
    "```python\n",
    "from demo_pkg.mod1 import base_func\n",
    "\n",
    "def display():\n",
    "    print('demo_pkg/mod2.display')\n",
    "\n",
    "def extend_func():\n",
    "    base_func()\n",
    "    print('extend func')\n",
    "```"
   ]
  },
  {
   "cell_type": "code",
   "execution_count": null,
   "metadata": {},
   "outputs": [],
   "source": [
    "demo_pkg.mod2.extend_func()"
   ]
  },
  {
   "cell_type": "markdown",
   "metadata": {},
   "source": [
    "## Code style\n",
    "---\n",
    "Nên sử dụng code style của python như [PEP8](https://www.python.org/dev/peps/pep-0008/)\n",
    "\n",
    "Sử dụng một linter như [pylint](https://www.pylint.org/)\n",
    "\n",
    "Học theo convention của các thư viện python nổi tiếng như (scikit-learn)[https://github.com/scikit-learn/scikit-learn/blob/master/sklearn/base.py] "
   ]
  },
  {
   "cell_type": "markdown",
   "metadata": {},
   "source": [
    "## Quản lí các package ngoài\n",
    "---\n",
    "Python có 2 công cụ dùng để quả lí các package không phải builtin của python gọi là __pip__, __pipenv__ hoặc __anaconda__ (dành cho data science)\n",
    "\n",
    "__pipenv__ các bạn có thể xem thêm ở đây [Pipenv: A Guide to the New Python Packaging Tool](https://realpython.com/pipenv-guide/)\n",
    "\n",
    "__anaconda__ [Homepage](https://www.anaconda.com/)\n",
    "\n",
    "### Cài đặt pip rất đơn giản\n",
    "\n",
    "* Windows: sau khi cài đặt python thành công, các bạn có thể tải file [get-pip.py](https://bootstrap.pypa.io/get-pip.py) chạy như một script python\n",
    "\n",
    "* Linux: có thể dùng cách giống trên Windows hoặc cài các gói python-pip(python2) hoặc python3-pip(python3)\n",
    "\n",
    "### Các thao tác đơn giản với pip\n",
    "\n",
    "* Install pạckage: `pip install [tên package][==số version]`\n",
    "* Install package từ list file: `pip install -r [tên file]`\n",
    "* Remove package: `pip uninstall [tên package]`\n",
    "* Liệt kê các package: `pip list`\n",
    "* Export danh sách package: `pip freeze > [tên file]`\n",
    "\n",
    "### Cô lập môi trường chạy\n",
    "\n",
    "Trong quá trình phát triển, các bạn muốn không bị ảnh hưởng tới môi trường trên máy tính, không bị conflict phiên bản các package,...\n",
    "\n",
    "Có một công cụ giúp ta cô lập được môi trường tên __virtualenv__\n",
    "\n",
    "Trên linux, bạn cài thêm gói `virtualenv`\n",
    "\n",
    "Để tạo môi trường ảo, bạn gõ: `virtualenv -p [python2 | python3] [tên thư mục chứa env]`\n",
    "\n",
    "Về cơ bản, câu lệnh trên tạo ra nơi lưu trữ các package riêng biệt với các package khác trên máy bạn và nó sẽ tìm các package trong thư mục này mỗi khi bạn chạy script trong môi trường ảo.\n",
    "\n",
    "Để sử môi trường ảo, các bạn gõ `source [tên thư mục chứa env]/bin/activate` trên linux hoặc chạy trực tiếp file executable của python trong môi trường ảo\n",
    "\n",
    "Note: kiểm tra lại biến môi trường sau khi chạy lệnh `source`\n",
    "\n",
    "Khi đưa repo lên github, các bạn chỉ cần đưa lên list package file mà không cần đưa thư mục của môi trường ảo"
   ]
  }
 ],
 "metadata": {
  "kernelspec": {
   "display_name": "Python 3",
   "language": "python",
   "name": "python3"
  },
  "language_info": {
   "codemirror_mode": {
    "name": "ipython",
    "version": 3
   },
   "file_extension": ".py",
   "mimetype": "text/x-python",
   "name": "python",
   "nbconvert_exporter": "python",
   "pygments_lexer": "ipython3",
   "version": "3.6.4"
  },
  "widgets": {
   "application/vnd.jupyter.widget-state+json": {
    "state": {},
    "version_major": 2,
    "version_minor": 0
   }
  }
 },
 "nbformat": 4,
 "nbformat_minor": 2
}
