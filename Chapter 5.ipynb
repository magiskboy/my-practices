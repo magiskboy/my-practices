{
 "cells": [
  {
   "cell_type": "markdown",
   "metadata": {},
   "source": [
    "<img style=\"width: 300px; margin-bottom: 20px\" src=\"static/gdg-hanoi.svg\">\n",
    "<h1 style=\"margin-top: 0; font-size: 72px; display: block; text-align: center\">Package and Module</h1>    \n",
    "<hr>"
   ]
  },
  {
   "cell_type": "markdown",
   "metadata": {},
   "source": [
    "## Khái niệm\n",
    "\n",
    "Module đơn giản là 1 file script python\n",
    "\n",
    "Package là một directory chứa các module\n",
    "\n",
    "Khi cài đặt python, các bạn sẽ có có builtin package như `json`, `math`, `os`, `sys`"
   ]
  },
  {
   "cell_type": "markdown",
   "metadata": {},
   "source": [
    "Khi dùng lệnh `import` hay `from`, python sẽ load nội dung của module hay package thành một object và gán cho tham chiếu\n",
    "\n",
    "**Ví dụ**"
   ]
  },
  {
   "cell_type": "code",
   "execution_count": null,
   "metadata": {},
   "outputs": [],
   "source": [
    "import sys\n",
    "import os\n",
    "from json import load as jload\n",
    "\n",
    "print('os module', os)\n",
    "print('sys package', sys)\n",
    "print('load function in json package', jload)"
   ]
  },
  {
   "cell_type": "markdown",
   "metadata": {},
   "source": [
    "### Làm sao để python biết vị trí các package hay module?\n",
    "\n",
    "Trong module sys có một biến mảng `path` sẽ chứa những directory giúp python tìm kiếm package hoặc module"
   ]
  },
  {
   "cell_type": "code",
   "execution_count": null,
   "metadata": {
    "scrolled": false
   },
   "outputs": [],
   "source": [
    "print(sys.path)"
   ]
  },
  {
   "cell_type": "markdown",
   "metadata": {},
   "source": [
    "## Load package (module) diễn ra như thế nào?"
   ]
  },
  {
   "cell_type": "markdown",
   "metadata": {},
   "source": [
    "<pre>\n",
    "demo_pkg\n",
    "├── __init__.py\n",
    "├── inner_pkg\n",
    "│   ├── __init__.py\n",
    "│   └── mod.py\n",
    "├── mod1.py\n",
    "└── mod2.py\n",
    "</pre>"
   ]
  },
  {
   "cell_type": "markdown",
   "metadata": {},
   "source": [
    "Khi thực hiện `import` hay `from`, các file `__init__.py` sẽ được thực thi đầu tiên\n",
    "\n",
    "Theo convention, các bạn nên load tất cả các module, package con ngay trong file `__init__.py` để tránh xảy ra việc load một module 2 lần "
   ]
  },
  {
   "cell_type": "code",
   "execution_count": null,
   "metadata": {},
   "outputs": [],
   "source": [
    "import demo_pkg\n",
    "\n",
    "print(demo_pkg)\n",
    "\n",
    "print(dir(demo_pkg))"
   ]
  },
  {
   "cell_type": "code",
   "execution_count": null,
   "metadata": {},
   "outputs": [],
   "source": [
    "demo_pkg.inner_pkg.mod.display()"
   ]
  },
  {
   "cell_type": "markdown",
   "metadata": {},
   "source": [
    "### Lưu ý\n",
    "\n",
    "Do ta load tất cả các module và package con trong `__init__.py`, ta nên để ý thứ tự load của chúng nếu 2 module sử dụng lẫn nhau trong cùng một package\n",
    "\n",
    "Cố gắng thiết kế package hợp lí để không xảy ra trường hợp trên\n",
    "\n",
    "Trong một số trường hợp (hạn chế), ta phải sửa lại biến `sys.path` để python có thể tìm thấy package\n",
    "\n",
    "**Ví dụ**"
   ]
  },
  {
   "cell_type": "markdown",
   "metadata": {},
   "source": [
    "* **demo_pkg/\\__init\\__.py**\n",
    "\n",
    "```python\n",
    "from . import mod1\n",
    "from . import mod2\n",
    "from . import inner_pkg\n",
    "```\n",
    "----------\n",
    "\n",
    "* **demo_pkg/mod1.py**\n",
    "\n",
    "```python\n",
    "def display():\n",
    "    print('demo_pkg/mod1.display')\n",
    "\n",
    "def base_func():\n",
    "    print('base function')\n",
    "```\n",
    "----------\n",
    "\n",
    "* **demo_pkg/mod2.py**\n",
    "\n",
    "```python\n",
    "from demo_pkg.mod1 import base_func\n",
    "\n",
    "def display():\n",
    "    print('demo_pkg/mod2.display')\n",
    "\n",
    "def extend_func():\n",
    "    base_func()\n",
    "    print('extend func')\n",
    "```"
   ]
  },
  {
   "cell_type": "code",
   "execution_count": null,
   "metadata": {},
   "outputs": [],
   "source": [
    "demo_pkg.mod2.extend_func()"
   ]
  }
 ],
 "metadata": {
  "kernelspec": {
   "display_name": "Python 3",
   "language": "python",
   "name": "python3"
  },
  "language_info": {
   "codemirror_mode": {
    "name": "ipython",
    "version": 3
   },
   "file_extension": ".py",
   "mimetype": "text/x-python",
   "name": "python",
   "nbconvert_exporter": "python",
   "pygments_lexer": "ipython3",
   "version": "3.6.4"
  },
  "widgets": {
   "application/vnd.jupyter.widget-state+json": {
    "state": {},
    "version_major": 2,
    "version_minor": 0
   }
  }
 },
 "nbformat": 4,
 "nbformat_minor": 2
}
