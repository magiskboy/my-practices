{
 "cells": [
  {
   "cell_type": "markdown",
   "metadata": {},
   "source": [
    "<img style=\"width: 300px; margin-bottom: 20px\" src=\"static/gdg-hanoi.svg\">\n",
    "<h1 style=\"margin-top: 0; font-size: 72px; display: block; text-align: center\">Cấu trúc điều khiển</h1>    \n",
    "<hr>"
   ]
  },
  {
   "cell_type": "markdown",
   "metadata": {},
   "source": [
    "## Các phép toán số học và logic"
   ]
  },
  {
   "cell_type": "code",
   "execution_count": null,
   "metadata": {},
   "outputs": [],
   "source": [
    "a = 15\n",
    "b = 10\n",
    "\n",
    "_sum = a + b\n",
    "_sub = a - b\n",
    "_mul = a * b\n",
    "_div = a / b\n",
    "_mod = a % b\n",
    "\n",
    "print(f'{a} + {b} = {_sum}')\n",
    "print(f'{a} - {b} = {_sub}')\n",
    "print(f'{a} * {b} = {_mul}')\n",
    "print(f'{a} / {b} = {_div}')\n",
    "print(f'{a} % {b} = {_mod}')"
   ]
  },
  {
   "cell_type": "code",
   "execution_count": null,
   "metadata": {},
   "outputs": [],
   "source": [
    "_and = True and False\n",
    "_or = False and False\n",
    "_not = not True\n",
    "\n",
    "print(f'True and False = {_and}')\n",
    "print(f'False or False = {_or}')\n",
    "print(f'not True = {_not}')"
   ]
  },
  {
   "cell_type": "code",
   "execution_count": null,
   "metadata": {},
   "outputs": [],
   "source": [
    "_map = 'Dust 2'\n",
    "maps = ['Cache', 'Dust 2', 'Inferno', 'Mirage', 'Canals', 'Nuke', 'Train']\n",
    "c = _map in maps\n",
    "print(f'Hỏi: {_map} có trong danh sách không?\\nĐáp: {\"Có\" if c else \"Không\"}')"
   ]
  },
  {
   "cell_type": "code",
   "execution_count": null,
   "metadata": {},
   "outputs": [],
   "source": [
    "s1 = [1, 2]\n",
    "s2 = [1, 2]\n",
    "print(f'Hỏi: s1 là s2?')\n",
    "if s1 is s2:\n",
    "    print('Đáp: Đúng, s1 là s2')\n",
    "else:\n",
    "    print('Đáp: Không, s1 không là s2')\n",
    "print(f'id(s1) = {id(s1)}\\nid(s2) = {id(s2)}')\n",
    "    \n",
    "print(f'Hỏi: s1 bằng s2?')\n",
    "if s1 == s2:\n",
    "    print('Đáp: Đúng, s1 bằng s2')\n",
    "else:\n",
    "    print('Đáp: Không, s1 không bằng là s2')"
   ]
  },
  {
   "cell_type": "markdown",
   "metadata": {},
   "source": [
    "### Tại sao?"
   ]
  },
  {
   "cell_type": "code",
   "execution_count": null,
   "metadata": {},
   "outputs": [],
   "source": [
    "s1 = 'Python'\n",
    "s2 = 'Python'\n",
    "print(f'Hỏi: s1 là s2?')\n",
    "if s1 is s2:\n",
    "    print('Đáp: Đúng, s1 là s2')\n",
    "else:\n",
    "    print('Đáp: Không, s1 không là s2')\n",
    "print(f'id(s1) = {id(s1)}\\nid(s2) = {id(s2)}')\n",
    "    \n",
    "print(f'Hỏi: s1 bằng s2?')\n",
    "if s1 == s2:\n",
    "    print('Đáp: Đúng, s1 bằng s2')\n",
    "else:\n",
    "    print('Đáp: Không, s1 không bằng là s2')"
   ]
  },
  {
   "cell_type": "markdown",
   "metadata": {},
   "source": [
    "## Thao tác với bit"
   ]
  },
  {
   "cell_type": "code",
   "execution_count": null,
   "metadata": {},
   "outputs": [],
   "source": [
    "shift_left = 2 << 5\n",
    "shilf_right = 64 >> 5\n",
    "\n",
    "print(f'2 << 5 = {shift_left}')\n",
    "print(f'64 >> 5 = {shilf_right}')"
   ]
  },
  {
   "cell_type": "markdown",
   "metadata": {},
   "source": [
    "## Cấu trúc rẽ nhánh"
   ]
  },
  {
   "cell_type": "code",
   "execution_count": null,
   "metadata": {},
   "outputs": [],
   "source": [
    "conditional = True\n",
    "if conditional:\n",
    "    print('Khối if được thực hiện')\n",
    "else:\n",
    "    print('Khối else được thực hiện')"
   ]
  },
  {
   "cell_type": "code",
   "execution_count": null,
   "metadata": {},
   "outputs": [],
   "source": [
    "day = 'Monday'\n",
    "if day == 'Sunday':\n",
    "    print('Hôm nay tôi được nghỉ')\n",
    "elif day == 'Saturday':\n",
    "    print('Hôm nay bọn trẻ được nghỉ')\n",
    "else:\n",
    "    print('Hôm nay cả nhà tôi đi vắng')"
   ]
  },
  {
   "cell_type": "markdown",
   "metadata": {},
   "source": [
    "**Tránh nhầm lẫn giữa `elif` và `else if`**"
   ]
  },
  {
   "cell_type": "markdown",
   "metadata": {},
   "source": [
    "Tuy không có lệnh `switch` như trong các ngôn ngữ C hay Java, bạn có thể sử dụng trick sau"
   ]
  },
  {
   "cell_type": "code",
   "execution_count": null,
   "metadata": {
    "scrolled": true
   },
   "outputs": [],
   "source": [
    "person = 'Steve Job'\n",
    "{\n",
    "    'Steve Job': 'Apple',\n",
    "    'Bill Gate': 'Microsoft'\n",
    "}.get(person)"
   ]
  },
  {
   "cell_type": "markdown",
   "metadata": {},
   "source": [
    "## Cấu trúc lặp"
   ]
  },
  {
   "cell_type": "markdown",
   "metadata": {},
   "source": [
    "### Lặp theo số lần"
   ]
  },
  {
   "cell_type": "code",
   "execution_count": null,
   "metadata": {
    "scrolled": false
   },
   "outputs": [],
   "source": [
    "for i in range(1, 10):\n",
    "    print(i**i, end=' ')"
   ]
  },
  {
   "cell_type": "markdown",
   "metadata": {},
   "source": [
    "`for each` trong python"
   ]
  },
  {
   "cell_type": "code",
   "execution_count": null,
   "metadata": {
    "scrolled": true
   },
   "outputs": [],
   "source": [
    "maps = ['Cache', 'Dust 2', 'Inferno', 'Mirage', 'Canals', 'Nuke', 'Train']\n",
    "for _map in maps:\n",
    "    _map = 'de_' + _map.lower().replace(' ', '')\n",
    "    print(_map)"
   ]
  },
  {
   "cell_type": "code",
   "execution_count": null,
   "metadata": {
    "scrolled": true
   },
   "outputs": [],
   "source": [
    "for index, _map in enumerate(maps):\n",
    "    print(f'{index}: {_map}')"
   ]
  },
  {
   "cell_type": "markdown",
   "metadata": {},
   "source": [
    "### Lặp theo điều kiện"
   ]
  },
  {
   "cell_type": "code",
   "execution_count": null,
   "metadata": {},
   "outputs": [],
   "source": [
    "limit = 10\n",
    "i = 0\n",
    "while i < limit:\n",
    "    print(i, end=' ')\n",
    "    i += 1"
   ]
  }
 ],
 "metadata": {
  "kernelspec": {
   "display_name": "Python 3",
   "language": "python",
   "name": "python3"
  },
  "language_info": {
   "codemirror_mode": {
    "name": "ipython",
    "version": 3
   },
   "file_extension": ".py",
   "mimetype": "text/x-python",
   "name": "python",
   "nbconvert_exporter": "python",
   "pygments_lexer": "ipython3",
   "version": "3.6.4"
  }
 },
 "nbformat": 4,
 "nbformat_minor": 2
}
